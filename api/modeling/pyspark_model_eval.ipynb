{
  "cells": [
    {
      "cell_type": "code",
      "execution_count": null,
      "metadata": {
        "id": "VaQkv7zV5XkV"
      },
      "outputs": [],
      "source": [
        "from pyspark.sql import SQLContext\n",
        "from pyspark import SparkContext\n",
        "from pyspark.sql.types import *\n",
        "from pyspark.ml.evaluation import MulticlassClassificationEvaluator\n",
        "from pyspark.ml.tuning import CrossValidatorModel\n",
        "from pyspark.ml.pipeline import PipelineModel"
      ]
    },
    {
      "cell_type": "code",
      "execution_count": null,
      "metadata": {
        "colab": {
          "base_uri": "https://localhost:8080/"
        },
        "id": "NusJeUrl5iUV",
        "outputId": "bc2a11fc-8f53-443f-b172-86843433b1ce"
      },
      "outputs": [
        {
          "name": "stderr",
          "output_type": "stream",
          "text": [
            "/usr/local/lib/python3.10/dist-packages/pyspark/sql/context.py:113: FutureWarning: Deprecated in 3.0.0. Use SparkSession.builder.getOrCreate() instead.\n",
            "  warnings.warn(\n"
          ]
        }
      ],
      "source": [
        "sc =SparkContext()\n",
        "sqlContext = SQLContext(sc)"
      ]
    },
    {
      "cell_type": "code",
      "execution_count": null,
      "metadata": {
        "id": "9OjDFFbE7azX"
      },
      "outputs": [],
      "source": [
        "customSchema = StructType([\n",
        "    StructField(\"label\", IntegerType()),\n",
        "    StructField(\"text\", StringType())])"
      ]
    },
    {
      "cell_type": "code",
      "execution_count": null,
      "metadata": {
        "id": "s2OnVtQw5lDb"
      },
      "outputs": [],
      "source": [
        "df_val = sqlContext.read.format(\"csv\").option(\"header\", \"true\").schema(customSchema).load('cleaned_twitter_validation.csv')"
      ]
    },
    {
      "cell_type": "code",
      "execution_count": null,
      "metadata": {
        "colab": {
          "base_uri": "https://localhost:8080/"
        },
        "id": "Z1qYnMXM5nkA",
        "outputId": "51ba27a0-0b0c-4eb7-ef6e-c2e344d06617"
      },
      "outputs": [
        {
          "name": "stdout",
          "output_type": "stream",
          "text": [
            "+-----+--------------------+--------------------+--------------------+\n",
            "|label|                text|              tokens|            features|\n",
            "+-----+--------------------+--------------------+--------------------+\n",
            "|    0|mentioned faceboo...|[mentioned, faceb...|(13363,[3,16,23,2...|\n",
            "|    2|bbc news amazon b...|[bbc, news, amazo...|(13363,[2,34,138,...|\n",
            "|    1|why pay  word  fu...|[why, pay, word, ...|(13363,[90,265,69...|\n",
            "|    1|csgo matchmaking ...|[csgo, matchmakin...|(13363,[0,115,262...|\n",
            "|    2|now  president sl...|[now, president, ...|(13363,[7,32,143,...|\n",
            "+-----+--------------------+--------------------+--------------------+\n",
            "only showing top 5 rows\n",
            "\n"
          ]
        }
      ],
      "source": [
        "# Fit the pipeline to validation documents.\n",
        "pipeline = PipelineModel.load('pipelineFit')\n",
        "dataset_val = pipeline.transform(df_val)\n",
        "dataset_val.show(5)"
      ]
    },
    {
      "cell_type": "code",
      "execution_count": null,
      "metadata": {
        "id": "SXZ3y2li5sxf"
      },
      "outputs": [],
      "source": [
        "cvModel = CrossValidatorModel.load('cvModel1')\n",
        "predictions = cvModel.transform(dataset_val)"
      ]
    },
    {
      "cell_type": "code",
      "execution_count": null,
      "metadata": {
        "colab": {
          "base_uri": "https://localhost:8080/"
        },
        "id": "uGU1Ae-Z9gwr",
        "outputId": "ddbae940-619b-44d3-cac1-73762a6f2af3"
      },
      "outputs": [
        {
          "name": "stdout",
          "output_type": "stream",
          "text": [
            "+--------------------------------------------------------------------------------------------------------------+--------------------------------------------------------------------------------------+-----+----------+\n",
            "|                                                                                                          text|                                                                           probability|label|prediction|\n",
            "+--------------------------------------------------------------------------------------------------------------+--------------------------------------------------------------------------------------+-----+----------+\n",
            "|words gratitude trevorphilipsstanaccount love   gta tumblr fandom particular   creating  talented  beautifu...|   [0.9988016127239734,8.530927674802259E-6,6.289466453168379E-4,5.609097030348915E-4]|    0|       0.0|\n",
            "|the nigeria national team   ranked  29th best team  world  3rd africa  latest fifa world rankings  its  fir...| [0.9981446665691251,1.9505353884937112E-5,0.0017476617390177118,8.816633797230984E-5]|    0|       0.0|\n",
            "|mentioned facebook   struggling  motivation  run   day    translated toms great auntie hayley cant get  bed...|   [0.9977606936493543,3.7247591183736E-4,0.0018528021326134783,1.4028306195030467E-5]|    0|       0.0|\n",
            "|       sound enjoy  groove   little montage made tribute  desert eagle   powerful badass secondary weapon ever| [0.9976589706966389,2.8788393965020206E-4,6.845662411592804E-4,0.0013685791225514698]|    0|       0.0|\n",
            "|fab seeing  bungalows built member  support  many others highlights  seeing family  andrew bibby   spade tr...|[0.9965912371425939,0.0013858363888398487,0.0016229589325094528,3.9996753605653595E-4]|    0|       0.0|\n",
            "|                                                        ban  battlefield player gariblak  occurred see details|    [0.9954765517869245,0.00158452509463051,0.001284855441318058,0.001654067677126903]|    0|       0.0|\n",
            "|pleased announce  names  referees approved  fifa referees committee   2020 international lists bondo joshua...|    [0.9939714365750146,0.00393837132260728,0.001800278287908446,2.899138144697024E-4]|    0|       0.0|\n",
            "|lol set  string tinder dates  back  would  bail  without messaging  figured would save   disappointment mad...|   [0.9933597371914479,0.005789867036327121,1.602995964408091E-4,6.900961757842067E-4]|    0|       0.0|\n",
            "|         far best stream without raid  hovering around 1215 viewers   hour  gained boat load follows much love|  [0.9930650724148051,5.417010939037415E-4,0.0020852469715993715,0.004307979519691763]|    0|       0.0|\n",
            "|stupid little fucking baby children   fullgrown adults copypasted microsoft paint  squeegeeed  disproportio...|[0.9920356490683505,0.0032517347502669077,0.0035881228983950858,0.0011244932829875894]|    0|       0.0|\n",
            "+--------------------------------------------------------------------------------------------------------------+--------------------------------------------------------------------------------------+-----+----------+\n",
            "only showing top 10 rows\n",
            "\n"
          ]
        }
      ],
      "source": [
        "predictions.filter(predictions['prediction'] == 0) \\\n",
        "    .select(\"text\",\"probability\",\"label\",\"prediction\") \\\n",
        "    .orderBy(\"probability\", ascending=False) \\\n",
        "    .show(n = 10, truncate = 110)"
      ]
    },
    {
      "cell_type": "code",
      "execution_count": null,
      "metadata": {
        "colab": {
          "base_uri": "https://localhost:8080/"
        },
        "id": "s1k3mEcT6gy3",
        "outputId": "ec259584-898f-4c5f-98b9-24d25d24e427"
      },
      "outputs": [
        {
          "data": {
            "text/plain": [
              "0.9037828332690099"
            ]
          },
          "execution_count": 10,
          "metadata": {},
          "output_type": "execute_result"
        }
      ],
      "source": [
        "evaluator = MulticlassClassificationEvaluator(predictionCol=\"prediction\")\n",
        "evaluator.evaluate(predictions)"
      ]
    }
  ],
  "metadata": {
    "colab": {
      "provenance": []
    },
    "kernelspec": {
      "display_name": "Python 3",
      "name": "python3"
    },
    "language_info": {
      "name": "python",
      "version": "3.10.11"
    }
  },
  "nbformat": 4,
  "nbformat_minor": 0
}
